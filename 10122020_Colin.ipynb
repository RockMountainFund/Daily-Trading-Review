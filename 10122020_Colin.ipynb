{
  "nbformat": 4,
  "nbformat_minor": 0,
  "metadata": {
    "colab": {
      "name": "10122020-Colin.ipynb",
      "provenance": [],
      "authorship_tag": "ABX9TyPvPsmsorg63wUj2Q/BP4dz",
      "include_colab_link": true
    },
    "kernelspec": {
      "name": "python3",
      "display_name": "Python 3"
    }
  },
  "cells": [
    {
      "cell_type": "markdown",
      "metadata": {
        "id": "view-in-github",
        "colab_type": "text"
      },
      "source": [
        "<a href=\"https://colab.research.google.com/github/RMF-Colin/Daily-Trading-Review/blob/master/10122020_Colin.ipynb\" target=\"_parent\"><img src=\"https://colab.research.google.com/assets/colab-badge.svg\" alt=\"Open In Colab\"/></a>"
      ]
    },
    {
      "cell_type": "markdown",
      "metadata": {
        "id": "u9qXJKJ6vhDN"
      },
      "source": [
        "### Review\n",
        "\n",
        "\n",
        "1.   Performance\n",
        "\n",
        "\n",
        "\n",
        "\n",
        "\n",
        "\n",
        "2.   Mistakes:\n",
        "\n"
      ]
    }
  ]
}